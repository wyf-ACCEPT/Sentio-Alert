{
 "cells": [
  {
   "cell_type": "code",
   "execution_count": 45,
   "metadata": {},
   "outputs": [],
   "source": [
    "import json\n",
    "import pandas as pd\n",
    "\n",
    "def process(path):\n",
    "    return pd.DataFrame(json.load(open(path))['results'][0]['matrix']['samples'][0]['values'])\n",
    "\n",
    "df = pd.concat((process('./to-txn.json')['value'], process('./to-amount.json')['value'], process('./from-txn.json')['value'], process('./from-amount.json')['value']), axis=1)\n",
    "df.index = pd.to_datetime(process('./to-txn.json')['timestamp'].apply(int) * 1e9).apply(lambda x: str(x)[:10])\n",
    "df.columns = ['in-txns', 'in-volume', 'out-txns', 'out-volume']\n",
    "df['total-txns'] = df['in-txns'] + df['out-txns']\n",
    "df['total-volume'] = df['in-volume'] + df['out-volume']\n",
    "df.to_csv('./celer-zksync-stats.csv')"
   ]
  },
  {
   "cell_type": "code",
   "execution_count": null,
   "metadata": {},
   "outputs": [],
   "source": []
  }
 ],
 "metadata": {
  "kernelspec": {
   "display_name": "base",
   "language": "python",
   "name": "python3"
  },
  "language_info": {
   "codemirror_mode": {
    "name": "ipython",
    "version": 3
   },
   "file_extension": ".py",
   "mimetype": "text/x-python",
   "name": "python",
   "nbconvert_exporter": "python",
   "pygments_lexer": "ipython3",
   "version": "3.10.9"
  },
  "orig_nbformat": 4
 },
 "nbformat": 4,
 "nbformat_minor": 2
}
